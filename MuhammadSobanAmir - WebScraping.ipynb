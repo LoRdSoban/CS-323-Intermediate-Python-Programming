{
 "cells": [
  {
   "cell_type": "code",
   "execution_count": 2,
   "id": "7d2798c4",
   "metadata": {},
   "outputs": [],
   "source": [
    "import time\n",
    "import requests\n",
    "import bs4"
   ]
  },
  {
   "cell_type": "code",
   "execution_count": 3,
   "id": "bc094738",
   "metadata": {},
   "outputs": [],
   "source": [
    "url = \"https://en.wikipedia.org/wiki/Siamese_cat\"\n",
    "\n",
    "r = requests.get(url)"
   ]
  },
  {
   "cell_type": "code",
   "execution_count": 5,
   "id": "37c93961",
   "metadata": {},
   "outputs": [
    {
     "data": {
      "text/plain": [
       "bs4.BeautifulSoup"
      ]
     },
     "execution_count": 5,
     "metadata": {},
     "output_type": "execute_result"
    }
   ],
   "source": [
    "soup = bs4.BeautifulSoup(r.content)\n",
    "\n",
    "type(soup)"
   ]
  },
  {
   "cell_type": "code",
   "execution_count": 7,
   "id": "664d6b31",
   "metadata": {
    "scrolled": true
   },
   "outputs": [
    {
     "name": "stdout",
     "output_type": "stream",
     "text": [
      "Contents\n",
      "History[edit]\n",
      "Appearance[edit]\n",
      "Temperament[edit]\n",
      "Health[edit]\n",
      "Breeds derived from the Siamese[edit]\n",
      "In media[edit]\n",
      "See also[edit]\n",
      "References[edit]\n",
      "External links[edit]\n"
     ]
    }
   ],
   "source": [
    "for tag in soup.find_all('h2'):\n",
    "    print(tag.text)"
   ]
  },
  {
   "cell_type": "code",
   "execution_count": 16,
   "id": "966368d1",
   "metadata": {},
   "outputs": [
    {
     "data": {
      "text/plain": [
       "bs4.BeautifulSoup"
      ]
     },
     "execution_count": 16,
     "metadata": {},
     "output_type": "execute_result"
    }
   ],
   "source": [
    "current_breed = 'siamese cat'\n",
    "url = f'https://en.wikipedia.org/wiki/{current_breed}'\n",
    "\n",
    "r = requests.get(url)\n",
    "soup = bs4.BeautifulSoup(r.content)\n",
    "\n",
    "type(soup)"
   ]
  },
  {
   "cell_type": "code",
   "execution_count": 21,
   "id": "8459d0e8",
   "metadata": {},
   "outputs": [
    {
     "name": "stdout",
     "output_type": "stream",
     "text": [
      "h2 Contents\n",
      "p \n",
      "\n",
      "p The Siamese cat (Thai: แมวไทย, Maeo Thai; แมวสยาม, Maeo Sayam) is one of the first distinctly recognised breeds of Asian cat. Derived from the Wichianmat landrace, one of several varieties of cats native to Thailand (formerly known as Siam), the original Siamese became one of the most popular breeds in Europe and North America in the 19th century.[1] The carefully refined, more extreme-featured, modern-style Siamese is characterised by blue almond-shaped eyes; a triangular head shape; large ears; an elongated, slender, and muscular body; and various forms of point colouration. Other than colouration, the modern-style Siamese bears little resemblance to the original stock, and the more moderate, traditional, or \"old-style\" Siamese, with a much rounder head and body, has been re-established by multiple registries as the Thai cat.\n",
      "\n",
      "p The Siamese (sometimes in the traditional form) is among the foundation stock of several other breeds developed by crossbreeding with other cats: some examples are the Oriental Shorthair and Colorpoint Shorthair, developed to expand the range of coat patterns; the long-haired variant most often dubbed the Himalayan; and hair-mutation breeds, including the Cornish Rex, Sphynx, Peterbald, and blue-point Siamese cat. The Siamese cat comes in two distinct variations: traditional, with a rounded head (though not as rounded as the later American Apple-head mix) and a slightly chubby body; or the modern Siamese, which is very skinny and has a wedge-shaped head. The long-haired Siamese is recognised internationally as a Balinese cat. Siamese cats are one of the more common breeds to have non-white irises.\n",
      "\n",
      "h2 History[edit]\n",
      "p A description and depiction of the Wichienmaat (Siamese cat) first appears in a collection of ancient manuscripts called the Tamra Maew (The Cat-Book Poems), thought to originate from the Ayutthaya Kingdom (1351 to 1767 AD). Over a dozen are now kept in the National Library of Thailand, while others have resurfaced outside of Thailand and are now in the British Library and National Library of Australia. In addition to the old Siamese cat, the Tamra Maew also describes other heritage cats of Thailand including the Korat cat (Malet), which is still bred for preservation in Thailand today and has become popular in other countries, and the Konja or Korn Ja (Black cat).[2]\n",
      "\n",
      "p When the capital city Ayutthaya was sacked on 7 April 1767 at the end of the Burmese–Siamese war, the Burmese army burned everything in sight. It returned to Burma, taking Siamese noblemen and royal family members with them as captives. Buddha images were hacked apart for their gold, and all the royal treasures were stolen. A Thai legend has it that the King of Burma Hsinbyushin found and read the poem for the Thai cats in the Tamra Maew. The poem describes Thai cats as being as rare as gold, and anyone who owns this cat will become wealthy. He told his army to round up all the Suphalak cats and bring them back to Burma along with the other treasures. Today in Thailand, this legend is told as a humorous explanation of the rarity of Thai cats.[citation needed]\n",
      "\n",
      "p The pointed cat known in the West as \"Siamese\", recognized for its distinctive markings, is one of several breeds of cats from Siam described and illustrated in manuscripts called \"Tamra Maew\" (Cat Poems), estimated to have been written from the 14th to the 18th century.[2] In 1878, U.S. President Rutherford B. Hayes received the first documented Siamese to reach the United States, a cat named \"Siam\" sent by the American Consul in Bangkok.[3] In 1884, the British Consul-General in Bangkok, Edward Blencowe Gould (1847–1916),[4] brought a breeding pair of the cats, Pho and Mia, back to Britain as a gift for his sister, Lilian Jane Gould (who, married in 1895 as Lilian Jane Veley,[5] went on to co-found the Siamese Cat Club in 1901).  In 1885, Gould's UK cats Pho and Mia produced three Siamese kittens—Duen Ngai, Kalohom, and Khromata—who were shown with their parents that same year at London's Crystal Palace Show. Their unique appearance and distinct behaviour attracted attention, but all three of the kittens died soon after the show, their cause of death not documented.[6]\n",
      "\n",
      "p By 1886, another pair (with kittens) was imported to the UK by Eva Forestier Walker (surnamed Vyvyan after 1887 marriage)[7] and her sister, Ada. Compared to the British Shorthair and Persian cats that were familiar to most Britons, these Siamese imports were longer and less \"cobby\" in body types, had heads that were less rounded with wedge-shaped muzzles and had larger ears. These differences and the pointed coat pattern, which had not been seen before in cats by Westerners, produced a strong impression—one early viewer described them as \"an unnatural nightmare of a cat.\" Over the next several years, fanciers imported a small number of cats, forming the base breeding pool for the entire breed in Britain. It is believed that most Siamese in Britain today are descended from about eleven of these original imports. In their early days in Britain, they were called the \"Royal Cat of Siam\", reflecting reports that they had previously been kept only by Siamese royalty.[8] Later research has not shown evidence of any organised royal breeding programme in Siam.[2] The original Siamese imports were medium-sized, rather long-bodied, muscular, graceful cats with moderately wedge-shaped heads and ears that were comparatively large but in proportion to the size of the head. The cats ranged from substantial to slender but were not extreme either.[citation needed]\n",
      "\n",
      "p \n",
      "\n",
      "p In the 1950s–1960s, as the Siamese was increasing in popularity, many breeders and cat show judges began to favour the more slender look. As a result of generations of selective breeding, they created increasingly long, fine-boned, narrow-headed cats. Eventually, the modern show Siamese was bred to be extremely elongated, with a lean, tubular body, long, slender legs, a very long, very thin tail that tapers gradually into a point, and a long, wedge-shaped head topped by extremely large, wide-set ears.[citation needed]\n",
      "\n",
      "p By the mid-1980s, cats of the original style had largely disappeared from cat shows. Still, a few breeders, particularly in the UK, continued to breed and register them, resulting in today's two types of Siamese: the modern, \"show-style\", standardized Siamese, and the \"Traditional Siamese\", both descended from the same distant ancestors, but with few or no recent ancestors in common, and effectively forming distinct sub-breeds, with some pressure to separate them.[citation needed]\n",
      "\n",
      "p In addition to the modern Siamese breed category, The International Cat Association (TICA) and the World Cat Federation (WCF) now accept Siamese cats of the less extreme type, and any wichianmat cat imported directly from Thailand, under the new breed name Thai.[9][10] Other, mostly unofficial, names for the traditional variety are \"Old-style Siamese\" and \"Classic Siamese\", with an American variation nicknamed \"Applehead\" (originally a derogatory nickname due to its extremely rounded features compared to what had become show breed standard Siamese).[11][12]\n",
      "\n",
      "h2 Appearance[edit]\n",
      "p The breed standard of the modern Siamese calls for an elongated, tubular, and muscular body and a triangular head, forming a perfect triangle from the tip of the nose to each tip of the ear. The eyes are almond-shaped and light blue, while the ears are large, wide-based, and positioned more towards the side of the head. The breed has a long neck, a slender tail, and fur that is short, glossy, fine and adheres to the body with no undercoat. Its pointed colour scheme and blue eyes distinguish it from the closely related Oriental Shorthair. The modern Siamese shares the pointed colour pattern with the Thai, or traditional Siamese, but they differ in head and body type.\n",
      "\n",
      "p The pointed pattern is a form of partial albinism, resulting from a mutation in tyrosinase, an enzyme involved in melanin production. The mutated tyrosinase enzyme is heat-sensitive; it fails to work at normal body temperatures but becomes active in cooler (< 33 °C) areas of the skin.[13] This results in dark colouration in the coolest parts of the cat's body, including the extremities and the face, which is cooled by the passage of air through the sinuses. All Siamese kittens, although pure cream or white at birth, develop visible points in the first few months of life in colder parts of their body.[14] By the time a kitten is four weeks old, the points should be sufficiently distinguishable to recognise which colour they are.[citation needed]\n",
      "\n",
      "p Siamese cats tend to darken with age, and generally, adult Siamese living in warm climates have lighter coats than those in cool climates. Originally the vast majority of Siamese had seal (extremely dark brown, almost black) points, but occasionally Siamese was born with \"blue\" (a cool grey) points, genetically a dilution of seal point; chocolate (lighter brown) points, a genetic variation of seal point; or lilac (pale warm grey) points, genetically a diluted chocolate. These colours were considered \"inferior\" seal points and were not qualified for showing or breeding. These shades were eventually accepted by the breed associations and became more common through breeding programmes specifically aimed at producing these colours. Later, outcrosses with other breeds developed Siamese-mix cats with points in other cat colours and patterns, including red and cream points, lynx (tabby) points, and tortoise-shell (\"tortie\") points. (For more information on cat coat terminology, see Cat coat genetics.)[citation needed]\n",
      "\n",
      "p In the United Kingdom, all pointed Siamese-style cats are considered part of the Siamese breed.[citation needed] The Cat Fanciers' Association, considers only the four original fur colours as Siamese:\n",
      "\n",
      "p Oriental Shorthair cats with colour points in colours or patterns aside from these four are considered Colourpoint Shorthair in that registry. The World Cat Federation has also adopted this classification, treating the Colourpoint Shorthair as a distinct breed.[10]\n",
      "\n",
      "p Many Siamese cats from Thailand had a kink in their tails, but over the years, this trait has been considered a flaw. Breeders have largely eradicated it, but the kinked tail persists among street cats in Thailand.[citation needed]\n",
      "\n",
      "h2 Temperament[edit]\n",
      "p Siamese are usually very affectionate and intelligent cats, renowned for their social nature. Many enjoy being with people and are sometimes described as \"extroverts\". Often they bond strongly with a single person.[6] Myrna Milani describes the Siamese as being more diurnal, more likely to stay close to their owner, and less likely to hunt than other cats.[16]\n",
      "\n",
      "h2 Health[edit]\n",
      "p Based on Swedish insurance data, which tracked cats only up to 12.5 years, Siamese and Siamese-derived breeds have a higher mortality rate than other breeds. 68% lived to 10 years or more and 42% to 12.5 years or more. The majority of deaths were caused by neoplasms, mainly mammary tumours. The Siamese also has a higher rate of morbidity. They are at higher risk of neoplastic and gastrointestinal problems but have a lower risk of feline lower urinary tract disease.[17][18] Vet clinic data from England shows a higher median lifespan of 14.2 years.[19]\n",
      "\n",
      "p The Siamese has been found to have a predisposition to progressive retinal atrophy.[20]\n",
      "\n",
      "p The same albino allele that produces coloured points means that Siamese cats' blue eyes lack a tapetum lucidum, a structure which amplifies dim light in the eyes of other cats. The mutation in the tyrosinase also results in abnormal neurological connections between the eye and the brain.[21] The optic chiasm has abnormal uncrossed wiring; many early Siamese were cross-eyed to compensate, but like the kinked tails, the crossed eyes have been seen as a fault, and due to selective breeding the trait is far less common today. Still, this lack of a tapetum lucidum even in uncross-eyed cats, causes reduced vision for the cat at night. This trait makes them vulnerable to urban dangers such as night-time vehicular traffic. Unlike many other blue-eyed white cats,[22] Siamese cats do not have reduced hearing ability.\n",
      "\n",
      "p The Siamese suffers from abnormal visual projections due to the lateral geniculate body of the eye differing from normal felines. Fibres located in the temporal retina cross over in the chiasm instead of remaining uncrossed.[23]\n",
      "\n",
      "p The Siamese is predisposed to periocular leukotrichia, pinnal alopecia, and psychogenic alopecia.[24]\n",
      "\n",
      "h2 Breeds derived from the Siamese[edit]\n",
      "h2 In media[edit]\n",
      "p Siamese cats have been protagonists in literature and film for adults and children since the 1930s. Clare Turlay Newberry's Babette[27] features a Siamese kitten escaping from a New York apartment in 1937. British publisher Michael Joseph recorded his relationship with his Siamese cat in Charles: The Story of a Friendship (1943).[28] The \"Siamese Cat Song\" sequence (\"We are Siamese if you please\") in Disney's Lady and the Tramp (1955), features the cats \"Si\" and \"Am\", both titled after the former name of Thailand, where the breed originated. The 1958 film adaptation of Bell, Book and Candle features Kim Novak's Siamese cat \"Pyewacket\", a witch's familiar. The Incredible Journey (1961)[29] by Sheila Burnford tells the story of three pets, including the Siamese cat \"Tao\", as they travel 300 miles (480 km) through the Canadian wilderness searching for their beloved masters. The book was a modest success when first published but became widely known after 1963 when it was loosely adapted into a film of the same name by Walt Disney. Disney also employed the same Siamese in the role of \"DC\" for its 1965 crime caper That Darn Cat!,[30] with The New York Times commenting \"The feline that plays the informant, as the F.B.I. puts it, is superb. [...] This elegant, blue-eyed creature is a paragon of suavity and grace\".[31]\n",
      "\n",
      "h2 See also[edit]\n",
      "h2 References[edit]\n",
      "h2 External links[edit]\n"
     ]
    }
   ],
   "source": [
    "site_data = {}\n",
    "\n",
    "current_heading = 'Contents'\n",
    "\n",
    "site_data[current_heading] = ''\n",
    "\n",
    "for tag in soup.find_all(['h2', 'p']):\n",
    "    if tag.name == 'h2':\n",
    "        current_heading = tag.text\n",
    "        site_data[current_heading] = ''\n",
    "    else:\n",
    "        site_data[current_heading] += ' ' + tag.text\n",
    "        \n",
    "    print(tag.name, tag.text)"
   ]
  },
  {
   "cell_type": "code",
   "execution_count": 20,
   "id": "00aa660f",
   "metadata": {},
   "outputs": [
    {
     "data": {
      "text/plain": [
       "{'Contents': ' \\n The Siamese cat (Thai: แมวไทย, Maeo Thai; แมวสยาม, Maeo Sayam) is one of the first distinctly recognised breeds of Asian cat. Derived from the Wichianmat landrace, one of several varieties of cats native to Thailand (formerly known as Siam), the original Siamese became one of the most popular breeds in Europe and North America in the 19th century.[1] The carefully refined, more extreme-featured, modern-style Siamese is characterised by blue almond-shaped eyes; a triangular head shape; large ears; an elongated, slender, and muscular body; and various forms of point colouration. Other than colouration, the modern-style Siamese bears little resemblance to the original stock, and the more moderate, traditional, or \"old-style\" Siamese, with a much rounder head and body, has been re-established by multiple registries as the Thai cat.\\n The Siamese (sometimes in the traditional form) is among the foundation stock of several other breeds developed by crossbreeding with other cats: some examples are the Oriental Shorthair and Colorpoint Shorthair, developed to expand the range of coat patterns; the long-haired variant most often dubbed the Himalayan; and hair-mutation breeds, including the Cornish Rex, Sphynx, Peterbald, and blue-point Siamese cat. The Siamese cat comes in two distinct variations: traditional, with a rounded head (though not as rounded as the later American Apple-head mix) and a slightly chubby body; or the modern Siamese, which is very skinny and has a wedge-shaped head. The long-haired Siamese is recognised internationally as a Balinese cat. Siamese cats are one of the more common breeds to have non-white irises.\\n',\n",
       " 'History[edit]': ' A description and depiction of the Wichienmaat (Siamese cat) first appears in a collection of ancient manuscripts called the Tamra Maew (The Cat-Book Poems), thought to originate from the Ayutthaya Kingdom (1351 to 1767 AD). Over a dozen are now kept in the National Library of Thailand, while others have resurfaced outside of Thailand and are now in the British Library and National Library of Australia. In addition to the old Siamese cat, the Tamra Maew also describes other heritage cats of Thailand including the Korat cat (Malet), which is still bred for preservation in Thailand today and has become popular in other countries, and the Konja or Korn Ja (Black cat).[2]\\n When the capital city Ayutthaya was sacked on 7 April 1767 at the end of the Burmese–Siamese war, the Burmese army burned everything in sight. It returned to Burma, taking Siamese noblemen and royal family members with them as captives. Buddha images were hacked apart for their gold, and all the royal treasures were stolen. A Thai legend has it that the King of Burma Hsinbyushin found and read the poem for the Thai cats in the Tamra Maew. The poem describes Thai cats as being as rare as gold, and anyone who owns this cat will become wealthy. He told his army to round up all the Suphalak cats and bring them back to Burma along with the other treasures. Today in Thailand, this legend is told as a humorous explanation of the rarity of Thai cats.[citation needed]\\n The pointed cat known in the West as \"Siamese\", recognized for its distinctive markings, is one of several breeds of cats from Siam described and illustrated in manuscripts called \"Tamra Maew\" (Cat Poems), estimated to have been written from the 14th to the 18th century.[2] In 1878, U.S. President Rutherford B. Hayes received the first documented Siamese to reach the United States, a cat named \"Siam\" sent by the American Consul in Bangkok.[3] In 1884, the British Consul-General in Bangkok, Edward Blencowe Gould (1847–1916),[4] brought a breeding pair of the cats, Pho and Mia, back to Britain as a gift for his sister, Lilian Jane Gould (who, married in 1895 as Lilian Jane Veley,[5] went on to co-found the Siamese Cat Club in 1901).  In 1885, Gould\\'s UK cats Pho and Mia produced three Siamese kittens—Duen Ngai, Kalohom, and Khromata—who were shown with their parents that same year at London\\'s Crystal Palace Show. Their unique appearance and distinct behaviour attracted attention, but all three of the kittens died soon after the show, their cause of death not documented.[6]\\n By 1886, another pair (with kittens) was imported to the UK by Eva Forestier Walker (surnamed Vyvyan after 1887 marriage)[7] and her sister, Ada. Compared to the British Shorthair and Persian cats that were familiar to most Britons, these Siamese imports were longer and less \"cobby\" in body types, had heads that were less rounded with wedge-shaped muzzles and had larger ears. These differences and the pointed coat pattern, which had not been seen before in cats by Westerners, produced a strong impression—one early viewer described them as \"an unnatural nightmare of a cat.\" Over the next several years, fanciers imported a small number of cats, forming the base breeding pool for the entire breed in Britain. It is believed that most Siamese in Britain today are descended from about eleven of these original imports. In their early days in Britain, they were called the \"Royal Cat of Siam\", reflecting reports that they had previously been kept only by Siamese royalty.[8] Later research has not shown evidence of any organised royal breeding programme in Siam.[2] The original Siamese imports were medium-sized, rather long-bodied, muscular, graceful cats with moderately wedge-shaped heads and ears that were comparatively large but in proportion to the size of the head. The cats ranged from substantial to slender but were not extreme either.[citation needed]\\n \\n In the 1950s–1960s, as the Siamese was increasing in popularity, many breeders and cat show judges began to favour the more slender look. As a result of generations of selective breeding, they created increasingly long, fine-boned, narrow-headed cats. Eventually, the modern show Siamese was bred to be extremely elongated, with a lean, tubular body, long, slender legs, a very long, very thin tail that tapers gradually into a point, and a long, wedge-shaped head topped by extremely large, wide-set ears.[citation needed]\\n By the mid-1980s, cats of the original style had largely disappeared from cat shows. Still, a few breeders, particularly in the UK, continued to breed and register them, resulting in today\\'s two types of Siamese: the modern, \"show-style\", standardized Siamese, and the \"Traditional Siamese\", both descended from the same distant ancestors, but with few or no recent ancestors in common, and effectively forming distinct sub-breeds, with some pressure to separate them.[citation needed]\\n In addition to the modern Siamese breed category, The International Cat Association (TICA) and the World Cat Federation (WCF) now accept Siamese cats of the less extreme type, and any wichianmat cat imported directly from Thailand, under the new breed name Thai.[9][10] Other, mostly unofficial, names for the traditional variety are \"Old-style Siamese\" and \"Classic Siamese\", with an American variation nicknamed \"Applehead\" (originally a derogatory nickname due to its extremely rounded features compared to what had become show breed standard Siamese).[11][12]\\n',\n",
       " 'Appearance[edit]': ' The breed standard of the modern Siamese calls for an elongated, tubular, and muscular body and a triangular head, forming a perfect triangle from the tip of the nose to each tip of the ear. The eyes are almond-shaped and light blue, while the ears are large, wide-based, and positioned more towards the side of the head. The breed has a long neck, a slender tail, and fur that is short, glossy, fine and adheres to the body with no undercoat. Its pointed colour scheme and blue eyes distinguish it from the closely related Oriental Shorthair. The modern Siamese shares the pointed colour pattern with the Thai, or traditional Siamese, but they differ in head and body type.\\n The pointed pattern is a form of partial albinism, resulting from a mutation in tyrosinase, an enzyme involved in melanin production. The mutated tyrosinase enzyme is heat-sensitive; it fails to work at normal body temperatures but becomes active in cooler (< 33\\xa0°C) areas of the skin.[13] This results in dark colouration in the coolest parts of the cat\\'s body, including the extremities and the face, which is cooled by the passage of air through the sinuses. All Siamese kittens, although pure cream or white at birth, develop visible points in the first few months of life in colder parts of their body.[14] By the time a kitten is four weeks old, the points should be sufficiently distinguishable to recognise which colour they are.[citation needed]\\n Siamese cats tend to darken with age, and generally, adult Siamese living in warm climates have lighter coats than those in cool climates. Originally the vast majority of Siamese had seal (extremely dark brown, almost black) points, but occasionally Siamese was born with \"blue\" (a cool grey) points, genetically a dilution of seal point; chocolate (lighter brown) points, a genetic variation of seal point; or lilac (pale warm grey) points, genetically a diluted chocolate. These colours were considered \"inferior\" seal points and were not qualified for showing or breeding. These shades were eventually accepted by the breed associations and became more common through breeding programmes specifically aimed at producing these colours. Later, outcrosses with other breeds developed Siamese-mix cats with points in other cat colours and patterns, including red and cream points, lynx (tabby) points, and tortoise-shell (\"tortie\") points. (For more information on cat coat terminology, see Cat coat genetics.)[citation needed]\\n In the United Kingdom, all pointed Siamese-style cats are considered part of the Siamese breed.[citation needed] The Cat Fanciers\\' Association, considers only the four original fur colours as Siamese:\\n Oriental Shorthair cats with colour points in colours or patterns aside from these four are considered Colourpoint Shorthair in that registry. The World Cat Federation has also adopted this classification, treating the Colourpoint Shorthair as a distinct breed.[10]\\n Many Siamese cats from Thailand had a kink in their tails, but over the years, this trait has been considered a flaw. Breeders have largely eradicated it, but the kinked tail persists among street cats in Thailand.[citation needed]\\n',\n",
       " 'Temperament[edit]': ' Siamese are usually very affectionate and intelligent cats, renowned for their social nature. Many enjoy being with people and are sometimes described as \"extroverts\". Often they bond strongly with a single person.[6] Myrna Milani describes the Siamese as being more diurnal, more likely to stay close to their owner, and less likely to hunt than other cats.[16]\\n',\n",
       " 'Health[edit]': \" Based on Swedish insurance data, which tracked cats only up to 12.5 years, Siamese and Siamese-derived breeds have a higher mortality rate than other breeds. 68% lived to 10 years or more and 42% to 12.5 years or more. The majority of deaths were caused by neoplasms, mainly mammary tumours. The Siamese also has a higher rate of morbidity. They are at higher risk of neoplastic and gastrointestinal problems but have a lower risk of feline lower urinary tract disease.[17][18] Vet clinic data from England shows a higher median lifespan of 14.2 years.[19]\\n The Siamese has been found to have a predisposition to progressive retinal atrophy.[20]\\n The same albino allele that produces coloured points means that Siamese cats' blue eyes lack a tapetum lucidum, a structure which amplifies dim light in the eyes of other cats. The mutation in the tyrosinase also results in abnormal neurological connections between the eye and the brain.[21] The optic chiasm has abnormal uncrossed wiring; many early Siamese were cross-eyed to compensate, but like the kinked tails, the crossed eyes have been seen as a fault, and due to selective breeding the trait is far less common today. Still, this lack of a tapetum lucidum even in uncross-eyed cats, causes reduced vision for the cat at night. This trait makes them vulnerable to urban dangers such as night-time vehicular traffic. Unlike many other blue-eyed white cats,[22] Siamese cats do not have reduced hearing ability.\\n The Siamese suffers from abnormal visual projections due to the lateral geniculate body of the eye differing from normal felines. Fibres located in the temporal retina cross over in the chiasm instead of remaining uncrossed.[23]\\n The Siamese is predisposed to periocular leukotrichia, pinnal alopecia, and psychogenic alopecia.[24]\\n\",\n",
       " 'Breeds derived from the Siamese[edit]': '',\n",
       " 'In media[edit]': ' Siamese cats have been protagonists in literature and film for adults and children since the 1930s. Clare Turlay Newberry\\'s Babette[27] features a Siamese kitten escaping from a New York apartment in 1937. British publisher Michael Joseph recorded his relationship with his Siamese cat in Charles: The Story of a Friendship (1943).[28] The \"Siamese Cat Song\" sequence (\"We are Siamese if you please\") in Disney\\'s Lady and the Tramp (1955), features the cats \"Si\" and \"Am\", both titled after the former name of Thailand, where the breed originated. The 1958 film adaptation of Bell, Book and Candle features Kim Novak\\'s Siamese cat \"Pyewacket\", a witch\\'s familiar. The Incredible Journey (1961)[29] by Sheila Burnford tells the story of three pets, including the Siamese cat \"Tao\", as they travel 300 miles (480\\xa0km) through the Canadian wilderness searching for their beloved masters. The book was a modest success when first published but became widely known after 1963 when it was loosely adapted into a film of the same name by Walt Disney. Disney also employed the same Siamese in the role of \"DC\" for its 1965 crime caper That Darn Cat!,[30] with The New York Times commenting \"The feline that plays the informant, as the F.B.I. puts it, is superb. [...] This elegant, blue-eyed creature is a paragon of suavity and grace\".[31]\\n',\n",
       " 'See also[edit]': '',\n",
       " 'References[edit]': '',\n",
       " 'External links[edit]': ''}"
      ]
     },
     "execution_count": 20,
     "metadata": {},
     "output_type": "execute_result"
    }
   ],
   "source": [
    "site_data"
   ]
  },
  {
   "cell_type": "code",
   "execution_count": 26,
   "id": "fdd24799",
   "metadata": {},
   "outputs": [
    {
     "name": "stdout",
     "output_type": "stream",
     "text": [
      "h2 Contents\n",
      "p \n",
      "\n",
      "p The Siamese cat (Thai: แมวไทย, Maeo Thai; แมวสยาม, Maeo Sayam) is one of the first distinctly recognised breeds of Asian cat. Derived from the Wichianmat landrace, one of several varieties of cats native to Thailand (formerly known as Siam), the original Siamese became one of the most popular breeds in Europe and North America in the 19th century.[1] The carefully refined, more extreme-featured, modern-style Siamese is characterised by blue almond-shaped eyes; a triangular head shape; large ears; an elongated, slender, and muscular body; and various forms of point colouration. Other than colouration, the modern-style Siamese bears little resemblance to the original stock, and the more moderate, traditional, or \"old-style\" Siamese, with a much rounder head and body, has been re-established by multiple registries as the Thai cat.\n",
      "\n",
      "p The Siamese (sometimes in the traditional form) is among the foundation stock of several other breeds developed by crossbreeding with other cats: some examples are the Oriental Shorthair and Colorpoint Shorthair, developed to expand the range of coat patterns; the long-haired variant most often dubbed the Himalayan; and hair-mutation breeds, including the Cornish Rex, Sphynx, Peterbald, and blue-point Siamese cat. The Siamese cat comes in two distinct variations: traditional, with a rounded head (though not as rounded as the later American Apple-head mix) and a slightly chubby body; or the modern Siamese, which is very skinny and has a wedge-shaped head. The long-haired Siamese is recognised internationally as a Balinese cat. Siamese cats are one of the more common breeds to have non-white irises.\n",
      "\n",
      "h2 History[edit]\n",
      "p A description and depiction of the Wichienmaat (Siamese cat) first appears in a collection of ancient manuscripts called the Tamra Maew (The Cat-Book Poems), thought to originate from the Ayutthaya Kingdom (1351 to 1767 AD). Over a dozen are now kept in the National Library of Thailand, while others have resurfaced outside of Thailand and are now in the British Library and National Library of Australia. In addition to the old Siamese cat, the Tamra Maew also describes other heritage cats of Thailand including the Korat cat (Malet), which is still bred for preservation in Thailand today and has become popular in other countries, and the Konja or Korn Ja (Black cat).[2]\n",
      "\n",
      "p When the capital city Ayutthaya was sacked on 7 April 1767 at the end of the Burmese–Siamese war, the Burmese army burned everything in sight. It returned to Burma, taking Siamese noblemen and royal family members with them as captives. Buddha images were hacked apart for their gold, and all the royal treasures were stolen. A Thai legend has it that the King of Burma Hsinbyushin found and read the poem for the Thai cats in the Tamra Maew. The poem describes Thai cats as being as rare as gold, and anyone who owns this cat will become wealthy. He told his army to round up all the Suphalak cats and bring them back to Burma along with the other treasures. Today in Thailand, this legend is told as a humorous explanation of the rarity of Thai cats.[citation needed]\n",
      "\n",
      "p The pointed cat known in the West as \"Siamese\", recognized for its distinctive markings, is one of several breeds of cats from Siam described and illustrated in manuscripts called \"Tamra Maew\" (Cat Poems), estimated to have been written from the 14th to the 18th century.[2] In 1878, U.S. President Rutherford B. Hayes received the first documented Siamese to reach the United States, a cat named \"Siam\" sent by the American Consul in Bangkok.[3] In 1884, the British Consul-General in Bangkok, Edward Blencowe Gould (1847–1916),[4] brought a breeding pair of the cats, Pho and Mia, back to Britain as a gift for his sister, Lilian Jane Gould (who, married in 1895 as Lilian Jane Veley,[5] went on to co-found the Siamese Cat Club in 1901).  In 1885, Gould's UK cats Pho and Mia produced three Siamese kittens—Duen Ngai, Kalohom, and Khromata—who were shown with their parents that same year at London's Crystal Palace Show. Their unique appearance and distinct behaviour attracted attention, but all three of the kittens died soon after the show, their cause of death not documented.[6]\n",
      "\n",
      "p By 1886, another pair (with kittens) was imported to the UK by Eva Forestier Walker (surnamed Vyvyan after 1887 marriage)[7] and her sister, Ada. Compared to the British Shorthair and Persian cats that were familiar to most Britons, these Siamese imports were longer and less \"cobby\" in body types, had heads that were less rounded with wedge-shaped muzzles and had larger ears. These differences and the pointed coat pattern, which had not been seen before in cats by Westerners, produced a strong impression—one early viewer described them as \"an unnatural nightmare of a cat.\" Over the next several years, fanciers imported a small number of cats, forming the base breeding pool for the entire breed in Britain. It is believed that most Siamese in Britain today are descended from about eleven of these original imports. In their early days in Britain, they were called the \"Royal Cat of Siam\", reflecting reports that they had previously been kept only by Siamese royalty.[8] Later research has not shown evidence of any organised royal breeding programme in Siam.[2] The original Siamese imports were medium-sized, rather long-bodied, muscular, graceful cats with moderately wedge-shaped heads and ears that were comparatively large but in proportion to the size of the head. The cats ranged from substantial to slender but were not extreme either.[citation needed]\n",
      "\n",
      "p \n",
      "\n",
      "p In the 1950s–1960s, as the Siamese was increasing in popularity, many breeders and cat show judges began to favour the more slender look. As a result of generations of selective breeding, they created increasingly long, fine-boned, narrow-headed cats. Eventually, the modern show Siamese was bred to be extremely elongated, with a lean, tubular body, long, slender legs, a very long, very thin tail that tapers gradually into a point, and a long, wedge-shaped head topped by extremely large, wide-set ears.[citation needed]\n",
      "\n",
      "p By the mid-1980s, cats of the original style had largely disappeared from cat shows. Still, a few breeders, particularly in the UK, continued to breed and register them, resulting in today's two types of Siamese: the modern, \"show-style\", standardized Siamese, and the \"Traditional Siamese\", both descended from the same distant ancestors, but with few or no recent ancestors in common, and effectively forming distinct sub-breeds, with some pressure to separate them.[citation needed]\n",
      "\n",
      "p In addition to the modern Siamese breed category, The International Cat Association (TICA) and the World Cat Federation (WCF) now accept Siamese cats of the less extreme type, and any wichianmat cat imported directly from Thailand, under the new breed name Thai.[9][10] Other, mostly unofficial, names for the traditional variety are \"Old-style Siamese\" and \"Classic Siamese\", with an American variation nicknamed \"Applehead\" (originally a derogatory nickname due to its extremely rounded features compared to what had become show breed standard Siamese).[11][12]\n",
      "\n",
      "h2 Appearance[edit]\n",
      "p The breed standard of the modern Siamese calls for an elongated, tubular, and muscular body and a triangular head, forming a perfect triangle from the tip of the nose to each tip of the ear. The eyes are almond-shaped and light blue, while the ears are large, wide-based, and positioned more towards the side of the head. The breed has a long neck, a slender tail, and fur that is short, glossy, fine and adheres to the body with no undercoat. Its pointed colour scheme and blue eyes distinguish it from the closely related Oriental Shorthair. The modern Siamese shares the pointed colour pattern with the Thai, or traditional Siamese, but they differ in head and body type.\n",
      "\n",
      "p The pointed pattern is a form of partial albinism, resulting from a mutation in tyrosinase, an enzyme involved in melanin production. The mutated tyrosinase enzyme is heat-sensitive; it fails to work at normal body temperatures but becomes active in cooler (< 33 °C) areas of the skin.[13] This results in dark colouration in the coolest parts of the cat's body, including the extremities and the face, which is cooled by the passage of air through the sinuses. All Siamese kittens, although pure cream or white at birth, develop visible points in the first few months of life in colder parts of their body.[14] By the time a kitten is four weeks old, the points should be sufficiently distinguishable to recognise which colour they are.[citation needed]\n",
      "\n",
      "p Siamese cats tend to darken with age, and generally, adult Siamese living in warm climates have lighter coats than those in cool climates. Originally the vast majority of Siamese had seal (extremely dark brown, almost black) points, but occasionally Siamese was born with \"blue\" (a cool grey) points, genetically a dilution of seal point; chocolate (lighter brown) points, a genetic variation of seal point; or lilac (pale warm grey) points, genetically a diluted chocolate. These colours were considered \"inferior\" seal points and were not qualified for showing or breeding. These shades were eventually accepted by the breed associations and became more common through breeding programmes specifically aimed at producing these colours. Later, outcrosses with other breeds developed Siamese-mix cats with points in other cat colours and patterns, including red and cream points, lynx (tabby) points, and tortoise-shell (\"tortie\") points. (For more information on cat coat terminology, see Cat coat genetics.)[citation needed]\n",
      "\n",
      "p In the United Kingdom, all pointed Siamese-style cats are considered part of the Siamese breed.[citation needed] The Cat Fanciers' Association, considers only the four original fur colours as Siamese:\n",
      "\n",
      "p Oriental Shorthair cats with colour points in colours or patterns aside from these four are considered Colourpoint Shorthair in that registry. The World Cat Federation has also adopted this classification, treating the Colourpoint Shorthair as a distinct breed.[10]\n",
      "\n",
      "p Many Siamese cats from Thailand had a kink in their tails, but over the years, this trait has been considered a flaw. Breeders have largely eradicated it, but the kinked tail persists among street cats in Thailand.[citation needed]\n",
      "\n",
      "h2 Temperament[edit]\n",
      "p Siamese are usually very affectionate and intelligent cats, renowned for their social nature. Many enjoy being with people and are sometimes described as \"extroverts\". Often they bond strongly with a single person.[6] Myrna Milani describes the Siamese as being more diurnal, more likely to stay close to their owner, and less likely to hunt than other cats.[16]\n",
      "\n",
      "h2 Health[edit]\n",
      "p Based on Swedish insurance data, which tracked cats only up to 12.5 years, Siamese and Siamese-derived breeds have a higher mortality rate than other breeds. 68% lived to 10 years or more and 42% to 12.5 years or more. The majority of deaths were caused by neoplasms, mainly mammary tumours. The Siamese also has a higher rate of morbidity. They are at higher risk of neoplastic and gastrointestinal problems but have a lower risk of feline lower urinary tract disease.[17][18] Vet clinic data from England shows a higher median lifespan of 14.2 years.[19]\n",
      "\n",
      "p The Siamese has been found to have a predisposition to progressive retinal atrophy.[20]\n",
      "\n",
      "p The same albino allele that produces coloured points means that Siamese cats' blue eyes lack a tapetum lucidum, a structure which amplifies dim light in the eyes of other cats. The mutation in the tyrosinase also results in abnormal neurological connections between the eye and the brain.[21] The optic chiasm has abnormal uncrossed wiring; many early Siamese were cross-eyed to compensate, but like the kinked tails, the crossed eyes have been seen as a fault, and due to selective breeding the trait is far less common today. Still, this lack of a tapetum lucidum even in uncross-eyed cats, causes reduced vision for the cat at night. This trait makes them vulnerable to urban dangers such as night-time vehicular traffic. Unlike many other blue-eyed white cats,[22] Siamese cats do not have reduced hearing ability.\n",
      "\n",
      "p The Siamese suffers from abnormal visual projections due to the lateral geniculate body of the eye differing from normal felines. Fibres located in the temporal retina cross over in the chiasm instead of remaining uncrossed.[23]\n",
      "\n",
      "p The Siamese is predisposed to periocular leukotrichia, pinnal alopecia, and psychogenic alopecia.[24]\n",
      "\n",
      "h2 Breeds derived from the Siamese[edit]\n",
      "h2 In media[edit]\n",
      "p Siamese cats have been protagonists in literature and film for adults and children since the 1930s. Clare Turlay Newberry's Babette[27] features a Siamese kitten escaping from a New York apartment in 1937. British publisher Michael Joseph recorded his relationship with his Siamese cat in Charles: The Story of a Friendship (1943).[28] The \"Siamese Cat Song\" sequence (\"We are Siamese if you please\") in Disney's Lady and the Tramp (1955), features the cats \"Si\" and \"Am\", both titled after the former name of Thailand, where the breed originated. The 1958 film adaptation of Bell, Book and Candle features Kim Novak's Siamese cat \"Pyewacket\", a witch's familiar. The Incredible Journey (1961)[29] by Sheila Burnford tells the story of three pets, including the Siamese cat \"Tao\", as they travel 300 miles (480 km) through the Canadian wilderness searching for their beloved masters. The book was a modest success when first published but became widely known after 1963 when it was loosely adapted into a film of the same name by Walt Disney. Disney also employed the same Siamese in the role of \"DC\" for its 1965 crime caper That Darn Cat!,[30] with The New York Times commenting \"The feline that plays the informant, as the F.B.I. puts it, is superb. [...] This elegant, blue-eyed creature is a paragon of suavity and grace\".[31]\n",
      "\n",
      "h2 See also[edit]\n",
      "h2 References[edit]\n",
      "h2 External links[edit]\n"
     ]
    }
   ],
   "source": [
    "current_breed = 'siamese cat'\n",
    "url = f'https://en.wikipedia.org/wiki/{current_breed}'\n",
    "\n",
    "r = requests.get(url)\n",
    "soup = bs4.BeautifulSoup(r.content)\n",
    "\n",
    "site_data = {}\n",
    "\n",
    "current_heading = ''\n",
    "site_data[current_heading] = ''\n",
    "\n",
    "for tag in soup.find_all(['h2', 'p']):\n",
    "    if tag.name == 'h2':\n",
    "        current_heading = tag.text\n",
    "        site_data[current_heading] = ''\n",
    "    else:\n",
    "        site_data[current_heading] += ' ' + tag.text\n",
    "        \n",
    "    print(tag.name, tag.text)"
   ]
  },
  {
   "cell_type": "code",
   "execution_count": 24,
   "id": "16465a69",
   "metadata": {},
   "outputs": [
    {
     "data": {
      "text/plain": [
       "{'': '',\n",
       " 'Contents': ' \\n The Siamese cat (Thai: แมวไทย, Maeo Thai; แมวสยาม, Maeo Sayam) is one of the first distinctly recognised breeds of Asian cat. Derived from the Wichianmat landrace, one of several varieties of cats native to Thailand (formerly known as Siam), the original Siamese became one of the most popular breeds in Europe and North America in the 19th century.[1] The carefully refined, more extreme-featured, modern-style Siamese is characterised by blue almond-shaped eyes; a triangular head shape; large ears; an elongated, slender, and muscular body; and various forms of point colouration. Other than colouration, the modern-style Siamese bears little resemblance to the original stock, and the more moderate, traditional, or \"old-style\" Siamese, with a much rounder head and body, has been re-established by multiple registries as the Thai cat.\\n The Siamese (sometimes in the traditional form) is among the foundation stock of several other breeds developed by crossbreeding with other cats: some examples are the Oriental Shorthair and Colorpoint Shorthair, developed to expand the range of coat patterns; the long-haired variant most often dubbed the Himalayan; and hair-mutation breeds, including the Cornish Rex, Sphynx, Peterbald, and blue-point Siamese cat. The Siamese cat comes in two distinct variations: traditional, with a rounded head (though not as rounded as the later American Apple-head mix) and a slightly chubby body; or the modern Siamese, which is very skinny and has a wedge-shaped head. The long-haired Siamese is recognised internationally as a Balinese cat. Siamese cats are one of the more common breeds to have non-white irises.\\n',\n",
       " 'History[edit]': ' A description and depiction of the Wichienmaat (Siamese cat) first appears in a collection of ancient manuscripts called the Tamra Maew (The Cat-Book Poems), thought to originate from the Ayutthaya Kingdom (1351 to 1767 AD). Over a dozen are now kept in the National Library of Thailand, while others have resurfaced outside of Thailand and are now in the British Library and National Library of Australia. In addition to the old Siamese cat, the Tamra Maew also describes other heritage cats of Thailand including the Korat cat (Malet), which is still bred for preservation in Thailand today and has become popular in other countries, and the Konja or Korn Ja (Black cat).[2]\\n When the capital city Ayutthaya was sacked on 7 April 1767 at the end of the Burmese–Siamese war, the Burmese army burned everything in sight. It returned to Burma, taking Siamese noblemen and royal family members with them as captives. Buddha images were hacked apart for their gold, and all the royal treasures were stolen. A Thai legend has it that the King of Burma Hsinbyushin found and read the poem for the Thai cats in the Tamra Maew. The poem describes Thai cats as being as rare as gold, and anyone who owns this cat will become wealthy. He told his army to round up all the Suphalak cats and bring them back to Burma along with the other treasures. Today in Thailand, this legend is told as a humorous explanation of the rarity of Thai cats.[citation needed]\\n The pointed cat known in the West as \"Siamese\", recognized for its distinctive markings, is one of several breeds of cats from Siam described and illustrated in manuscripts called \"Tamra Maew\" (Cat Poems), estimated to have been written from the 14th to the 18th century.[2] In 1878, U.S. President Rutherford B. Hayes received the first documented Siamese to reach the United States, a cat named \"Siam\" sent by the American Consul in Bangkok.[3] In 1884, the British Consul-General in Bangkok, Edward Blencowe Gould (1847–1916),[4] brought a breeding pair of the cats, Pho and Mia, back to Britain as a gift for his sister, Lilian Jane Gould (who, married in 1895 as Lilian Jane Veley,[5] went on to co-found the Siamese Cat Club in 1901).  In 1885, Gould\\'s UK cats Pho and Mia produced three Siamese kittens—Duen Ngai, Kalohom, and Khromata—who were shown with their parents that same year at London\\'s Crystal Palace Show. Their unique appearance and distinct behaviour attracted attention, but all three of the kittens died soon after the show, their cause of death not documented.[6]\\n By 1886, another pair (with kittens) was imported to the UK by Eva Forestier Walker (surnamed Vyvyan after 1887 marriage)[7] and her sister, Ada. Compared to the British Shorthair and Persian cats that were familiar to most Britons, these Siamese imports were longer and less \"cobby\" in body types, had heads that were less rounded with wedge-shaped muzzles and had larger ears. These differences and the pointed coat pattern, which had not been seen before in cats by Westerners, produced a strong impression—one early viewer described them as \"an unnatural nightmare of a cat.\" Over the next several years, fanciers imported a small number of cats, forming the base breeding pool for the entire breed in Britain. It is believed that most Siamese in Britain today are descended from about eleven of these original imports. In their early days in Britain, they were called the \"Royal Cat of Siam\", reflecting reports that they had previously been kept only by Siamese royalty.[8] Later research has not shown evidence of any organised royal breeding programme in Siam.[2] The original Siamese imports were medium-sized, rather long-bodied, muscular, graceful cats with moderately wedge-shaped heads and ears that were comparatively large but in proportion to the size of the head. The cats ranged from substantial to slender but were not extreme either.[citation needed]\\n \\n In the 1950s–1960s, as the Siamese was increasing in popularity, many breeders and cat show judges began to favour the more slender look. As a result of generations of selective breeding, they created increasingly long, fine-boned, narrow-headed cats. Eventually, the modern show Siamese was bred to be extremely elongated, with a lean, tubular body, long, slender legs, a very long, very thin tail that tapers gradually into a point, and a long, wedge-shaped head topped by extremely large, wide-set ears.[citation needed]\\n By the mid-1980s, cats of the original style had largely disappeared from cat shows. Still, a few breeders, particularly in the UK, continued to breed and register them, resulting in today\\'s two types of Siamese: the modern, \"show-style\", standardized Siamese, and the \"Traditional Siamese\", both descended from the same distant ancestors, but with few or no recent ancestors in common, and effectively forming distinct sub-breeds, with some pressure to separate them.[citation needed]\\n In addition to the modern Siamese breed category, The International Cat Association (TICA) and the World Cat Federation (WCF) now accept Siamese cats of the less extreme type, and any wichianmat cat imported directly from Thailand, under the new breed name Thai.[9][10] Other, mostly unofficial, names for the traditional variety are \"Old-style Siamese\" and \"Classic Siamese\", with an American variation nicknamed \"Applehead\" (originally a derogatory nickname due to its extremely rounded features compared to what had become show breed standard Siamese).[11][12]\\n',\n",
       " 'Appearance[edit]': ' The breed standard of the modern Siamese calls for an elongated, tubular, and muscular body and a triangular head, forming a perfect triangle from the tip of the nose to each tip of the ear. The eyes are almond-shaped and light blue, while the ears are large, wide-based, and positioned more towards the side of the head. The breed has a long neck, a slender tail, and fur that is short, glossy, fine and adheres to the body with no undercoat. Its pointed colour scheme and blue eyes distinguish it from the closely related Oriental Shorthair. The modern Siamese shares the pointed colour pattern with the Thai, or traditional Siamese, but they differ in head and body type.\\n The pointed pattern is a form of partial albinism, resulting from a mutation in tyrosinase, an enzyme involved in melanin production. The mutated tyrosinase enzyme is heat-sensitive; it fails to work at normal body temperatures but becomes active in cooler (< 33\\xa0°C) areas of the skin.[13] This results in dark colouration in the coolest parts of the cat\\'s body, including the extremities and the face, which is cooled by the passage of air through the sinuses. All Siamese kittens, although pure cream or white at birth, develop visible points in the first few months of life in colder parts of their body.[14] By the time a kitten is four weeks old, the points should be sufficiently distinguishable to recognise which colour they are.[citation needed]\\n Siamese cats tend to darken with age, and generally, adult Siamese living in warm climates have lighter coats than those in cool climates. Originally the vast majority of Siamese had seal (extremely dark brown, almost black) points, but occasionally Siamese was born with \"blue\" (a cool grey) points, genetically a dilution of seal point; chocolate (lighter brown) points, a genetic variation of seal point; or lilac (pale warm grey) points, genetically a diluted chocolate. These colours were considered \"inferior\" seal points and were not qualified for showing or breeding. These shades were eventually accepted by the breed associations and became more common through breeding programmes specifically aimed at producing these colours. Later, outcrosses with other breeds developed Siamese-mix cats with points in other cat colours and patterns, including red and cream points, lynx (tabby) points, and tortoise-shell (\"tortie\") points. (For more information on cat coat terminology, see Cat coat genetics.)[citation needed]\\n In the United Kingdom, all pointed Siamese-style cats are considered part of the Siamese breed.[citation needed] The Cat Fanciers\\' Association, considers only the four original fur colours as Siamese:\\n Oriental Shorthair cats with colour points in colours or patterns aside from these four are considered Colourpoint Shorthair in that registry. The World Cat Federation has also adopted this classification, treating the Colourpoint Shorthair as a distinct breed.[10]\\n Many Siamese cats from Thailand had a kink in their tails, but over the years, this trait has been considered a flaw. Breeders have largely eradicated it, but the kinked tail persists among street cats in Thailand.[citation needed]\\n',\n",
       " 'Temperament[edit]': ' Siamese are usually very affectionate and intelligent cats, renowned for their social nature. Many enjoy being with people and are sometimes described as \"extroverts\". Often they bond strongly with a single person.[6] Myrna Milani describes the Siamese as being more diurnal, more likely to stay close to their owner, and less likely to hunt than other cats.[16]\\n',\n",
       " 'Health[edit]': \" Based on Swedish insurance data, which tracked cats only up to 12.5 years, Siamese and Siamese-derived breeds have a higher mortality rate than other breeds. 68% lived to 10 years or more and 42% to 12.5 years or more. The majority of deaths were caused by neoplasms, mainly mammary tumours. The Siamese also has a higher rate of morbidity. They are at higher risk of neoplastic and gastrointestinal problems but have a lower risk of feline lower urinary tract disease.[17][18] Vet clinic data from England shows a higher median lifespan of 14.2 years.[19]\\n The Siamese has been found to have a predisposition to progressive retinal atrophy.[20]\\n The same albino allele that produces coloured points means that Siamese cats' blue eyes lack a tapetum lucidum, a structure which amplifies dim light in the eyes of other cats. The mutation in the tyrosinase also results in abnormal neurological connections between the eye and the brain.[21] The optic chiasm has abnormal uncrossed wiring; many early Siamese were cross-eyed to compensate, but like the kinked tails, the crossed eyes have been seen as a fault, and due to selective breeding the trait is far less common today. Still, this lack of a tapetum lucidum even in uncross-eyed cats, causes reduced vision for the cat at night. This trait makes them vulnerable to urban dangers such as night-time vehicular traffic. Unlike many other blue-eyed white cats,[22] Siamese cats do not have reduced hearing ability.\\n The Siamese suffers from abnormal visual projections due to the lateral geniculate body of the eye differing from normal felines. Fibres located in the temporal retina cross over in the chiasm instead of remaining uncrossed.[23]\\n The Siamese is predisposed to periocular leukotrichia, pinnal alopecia, and psychogenic alopecia.[24]\\n\",\n",
       " 'Breeds derived from the Siamese[edit]': '',\n",
       " 'In media[edit]': ' Siamese cats have been protagonists in literature and film for adults and children since the 1930s. Clare Turlay Newberry\\'s Babette[27] features a Siamese kitten escaping from a New York apartment in 1937. British publisher Michael Joseph recorded his relationship with his Siamese cat in Charles: The Story of a Friendship (1943).[28] The \"Siamese Cat Song\" sequence (\"We are Siamese if you please\") in Disney\\'s Lady and the Tramp (1955), features the cats \"Si\" and \"Am\", both titled after the former name of Thailand, where the breed originated. The 1958 film adaptation of Bell, Book and Candle features Kim Novak\\'s Siamese cat \"Pyewacket\", a witch\\'s familiar. The Incredible Journey (1961)[29] by Sheila Burnford tells the story of three pets, including the Siamese cat \"Tao\", as they travel 300 miles (480\\xa0km) through the Canadian wilderness searching for their beloved masters. The book was a modest success when first published but became widely known after 1963 when it was loosely adapted into a film of the same name by Walt Disney. Disney also employed the same Siamese in the role of \"DC\" for its 1965 crime caper That Darn Cat!,[30] with The New York Times commenting \"The feline that plays the informant, as the F.B.I. puts it, is superb. [...] This elegant, blue-eyed creature is a paragon of suavity and grace\".[31]\\n',\n",
       " 'See also[edit]': '',\n",
       " 'References[edit]': '',\n",
       " 'External links[edit]': ''}"
      ]
     },
     "execution_count": 24,
     "metadata": {},
     "output_type": "execute_result"
    }
   ],
   "source": [
    "site_data"
   ]
  },
  {
   "cell_type": "code",
   "execution_count": 29,
   "id": "5fe15c10",
   "metadata": {},
   "outputs": [
    {
     "name": "stdout",
     "output_type": "stream",
     "text": [
      "starting siamese cat\n",
      "Sleeping\n",
      "starting tabby cat\n",
      "Sleeping\n",
      "starting persian cat\n",
      "Sleeping\n"
     ]
    }
   ],
   "source": [
    "breeds_to_scrape = ['siamese cat', 'tabby cat', 'persian cat']\n",
    "\n",
    "\n",
    "all_data = {}\n",
    "\n",
    "for current_breed in breeds_to_scrape:\n",
    "    \n",
    "    print(f'starting {current_breed}')\n",
    "    \n",
    "    url = f'https://en.wikipedia.org/wiki/{current_breed}'\n",
    "    r = requests.get(url)\n",
    "    soup = bs4.BeautifulSoup(r.content)\n",
    "\n",
    "    site_data = {}\n",
    "\n",
    "    current_heading = 'General Info'\n",
    "    site_data[current_heading] = ''\n",
    "\n",
    "    for tag in soup.find_all(['h2', 'p']):\n",
    "        if tag.name == 'h2':\n",
    "            current_heading = tag.text\n",
    "            site_data[current_heading] = ''\n",
    "        else:\n",
    "            site_data[current_heading] += ' ' + tag.text\n",
    "\n",
    "    all_data[current_breed] = site_data\n",
    "    \n",
    "    print(\"Sleeping\")\n",
    "    time.sleep(4)"
   ]
  },
  {
   "cell_type": "code",
   "execution_count": null,
   "id": "0f885003",
   "metadata": {},
   "outputs": [],
   "source": []
  },
  {
   "cell_type": "code",
   "execution_count": null,
   "id": "32f5ec7d",
   "metadata": {},
   "outputs": [],
   "source": []
  }
 ],
 "metadata": {
  "kernelspec": {
   "display_name": "Python 3 (ipykernel)",
   "language": "python",
   "name": "python3"
  },
  "language_info": {
   "codemirror_mode": {
    "name": "ipython",
    "version": 3
   },
   "file_extension": ".py",
   "mimetype": "text/x-python",
   "name": "python",
   "nbconvert_exporter": "python",
   "pygments_lexer": "ipython3",
   "version": "3.11.5"
  }
 },
 "nbformat": 4,
 "nbformat_minor": 5
}

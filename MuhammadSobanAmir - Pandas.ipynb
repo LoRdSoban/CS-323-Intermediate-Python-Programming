{
 "cells": [
  {
   "cell_type": "code",
   "execution_count": 59,
   "id": "b70047e6",
   "metadata": {
    "scrolled": false
   },
   "outputs": [
    {
     "name": "stdout",
     "output_type": "stream",
     "text": [
      "       #                   Name   Type 1  Type 2  Total  HP  Attack  Defense  \\\n",
      "0      1              Bulbasaur    Grass  Poison    318  45      49       49   \n",
      "1      2                Ivysaur    Grass  Poison    405  60      62       63   \n",
      "2      3               Venusaur    Grass  Poison    525  80      82       83   \n",
      "3      3  VenusaurMega Venusaur    Grass  Poison    625  80     100      123   \n",
      "4      4             Charmander     Fire     NaN    309  39      52       43   \n",
      "..   ...                    ...      ...     ...    ...  ..     ...      ...   \n",
      "795  719                Diancie     Rock   Fairy    600  50     100      150   \n",
      "796  719    DiancieMega Diancie     Rock   Fairy    700  50     160      110   \n",
      "797  720    HoopaHoopa Confined  Psychic   Ghost    600  80     110       60   \n",
      "798  720     HoopaHoopa Unbound  Psychic    Dark    680  80     160       60   \n",
      "799  721              Volcanion     Fire   Water    600  80     110      120   \n",
      "\n",
      "     Sp. Atk  Sp. Def  Speed  Generation  Legendary  \n",
      "0         65       65     45           1      False  \n",
      "1         80       80     60           1      False  \n",
      "2        100      100     80           1      False  \n",
      "3        122      120     80           1      False  \n",
      "4         60       50     65           1      False  \n",
      "..       ...      ...    ...         ...        ...  \n",
      "795      100      150     50           6       True  \n",
      "796      160      110    110           6       True  \n",
      "797      150      130     70           6       True  \n",
      "798      170      130     80           6       True  \n",
      "799      130       90     70           6       True  \n",
      "\n",
      "[800 rows x 13 columns]\n"
     ]
    }
   ],
   "source": [
    "import pandas as pd\n",
    "\n",
    "poke = pd.read_csv('Pokemon.csv')\n",
    "#poke = poke.drop_duplicates('#', keep='first') \n",
    "\n",
    "print(poke)"
   ]
  },
  {
   "cell_type": "markdown",
   "id": "52d7ea11",
   "metadata": {},
   "source": [
    "----\n",
    "\n",
    "#### 1. First, select the pokemon with the top 6 stat totals (hint: use sort_values() and head()). \n"
   ]
  },
  {
   "cell_type": "code",
   "execution_count": 57,
   "id": "ea59c270",
   "metadata": {
    "scrolled": true
   },
   "outputs": [
    {
     "name": "stdout",
     "output_type": "stream",
     "text": [
      "       #                   Name   Type 1    Type 2  Total   HP  Attack  \\\n",
      "426  384  RayquazaMega Rayquaza   Dragon    Flying    780  105     180   \n",
      "164  150    MewtwoMega Mewtwo Y  Psychic       NaN    780  106     150   \n",
      "163  150    MewtwoMega Mewtwo X  Psychic  Fighting    780  106     190   \n",
      "422  382    KyogrePrimal Kyogre    Water       NaN    770  100     150   \n",
      "424  383  GroudonPrimal Groudon   Ground      Fire    770  100     180   \n",
      "552  493                 Arceus   Normal       NaN    720  120     120   \n",
      "\n",
      "     Defense  Sp. Atk  Sp. Def  Speed  Generation  Legendary  \n",
      "426      100      180      100    115           3       True  \n",
      "164       70      194      120    140           1       True  \n",
      "163      100      154      100    130           1       True  \n",
      "422       90      180      160     90           3       True  \n",
      "424      160      150       90     90           3       True  \n",
      "552      120      120      120    120           4       True  \n"
     ]
    }
   ],
   "source": [
    "poke_desc = poke.sort_values(by='Total',ascending=False)\n",
    "\n",
    "print(poke_desc.head(6))"
   ]
  },
  {
   "cell_type": "markdown",
   "id": "f33f9636",
   "metadata": {},
   "source": [
    "----\n",
    "\n",
    "#### 2. New requirement, no legendary pokemon allowed. Before sorting and getting the top 6 results, remove legendary pokemon from the list.\n"
   ]
  },
  {
   "cell_type": "code",
   "execution_count": 58,
   "id": "fabe2214",
   "metadata": {
    "scrolled": true
   },
   "outputs": [
    {
     "name": "stdout",
     "output_type": "stream",
     "text": [
      "       #                     Name  Type 1   Type 2  Total   HP  Attack  \\\n",
      "413  376  MetagrossMega Metagross   Steel  Psychic    700   80     145   \n",
      "494  445    GarchompMega Garchomp  Dragon   Ground    700  108     170   \n",
      "409  373  SalamenceMega Salamence  Dragon   Flying    700   95     145   \n",
      "268  248  TyranitarMega Tyranitar    Rock     Dark    700  100     164   \n",
      "313  289                  Slaking  Normal      NaN    670  150     160   \n",
      "141  130    GyaradosMega Gyarados   Water     Dark    640   95     155   \n",
      "\n",
      "     Defense  Sp. Atk  Sp. Def  Speed  Generation  Legendary  \n",
      "413      150      105      110    110           3      False  \n",
      "494      115      120       95     92           4      False  \n",
      "409      130      120       90    120           3      False  \n",
      "268      150       95      120     71           2      False  \n",
      "313      100       95       65    100           3      False  \n",
      "141      109       70      130     81           1      False  \n"
     ]
    }
   ],
   "source": [
    "poke_no_legendary = poke[poke['Legendary'] == False]\n",
    "poke_no_legendary_desc = poke_no_legendary.sort_values(by='Total',ascending=False)\n",
    "\n",
    "print(poke_no_legendary_desc.head(6))"
   ]
  },
  {
   "cell_type": "markdown",
   "id": "866e8dfe",
   "metadata": {},
   "source": [
    "----\n",
    "\n",
    "#### 3. New rule: All pokemon on the team must have a different primary type. (hint: use drop_duplicates). \n"
   ]
  },
  {
   "cell_type": "code",
   "execution_count": 55,
   "id": "a67dea5a",
   "metadata": {},
   "outputs": [
    {
     "name": "stdout",
     "output_type": "stream",
     "text": [
      "       #                       Name  Type 1   Type 2  Total   HP  Attack  \\\n",
      "413  376    MetagrossMega Metagross   Steel  Psychic    700   80     145   \n",
      "494  445      GarchompMega Garchomp  Dragon   Ground    700  108     170   \n",
      "268  248    TyranitarMega Tyranitar    Rock     Dark    700  100     164   \n",
      "313  289                    Slaking  Normal      NaN    670  150     160   \n",
      "141  130      GyaradosMega Gyarados   Water     Dark    640   95     155   \n",
      "8      6  CharizardMega Charizard Y    Fire   Flying    634   78     104   \n",
      "\n",
      "     Defense  Sp. Atk  Sp. Def  Speed  Generation  Legendary  \n",
      "413      150      105      110    110           3      False  \n",
      "494      115      120       95     92           4      False  \n",
      "268      150       95      120     71           2      False  \n",
      "313      100       95       65    100           3      False  \n",
      "141      109       70      130     81           1      False  \n",
      "8         78      159      115    100           1      False  \n"
     ]
    }
   ],
   "source": [
    "poke_no_same_primary_type_desc = poke_no_legendary_desc.drop_duplicates('Type 1', keep='first')\n",
    "\n",
    "print(poke_no_same_primary_type_desc.head(6))"
   ]
  }
 ],
 "metadata": {
  "kernelspec": {
   "display_name": "Python 3 (ipykernel)",
   "language": "python",
   "name": "python3"
  },
  "language_info": {
   "codemirror_mode": {
    "name": "ipython",
    "version": 3
   },
   "file_extension": ".py",
   "mimetype": "text/x-python",
   "name": "python",
   "nbconvert_exporter": "python",
   "pygments_lexer": "ipython3",
   "version": "3.11.5"
  }
 },
 "nbformat": 4,
 "nbformat_minor": 5
}

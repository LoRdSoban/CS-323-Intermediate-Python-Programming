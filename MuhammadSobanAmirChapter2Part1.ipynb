{
 "cells": [
  {
   "cell_type": "markdown",
   "id": "f91b704a",
   "metadata": {},
   "source": [
    "# Pig Latin Assignment\n",
    "----"
   ]
  },
  {
   "cell_type": "code",
   "execution_count": null,
   "id": "a0e2c0d8",
   "metadata": {},
   "outputs": [
    {
     "name": "stdout",
     "output_type": "stream",
     "text": [
      "Enter a word, all uppercase letters: HHH\n",
      "Pig Latin translation: HHH\n",
      "Would you like to translate another word? (yes/no): yes\n"
     ]
    }
   ],
   "source": [
    "# Function to translate a word into Pig Latin\n",
    "def pig_latin(word):\n",
    "    # Define vowels\n",
    "    vowels = \"aeiouAEIOU\"\n",
    "    \n",
    "    # Check if the word starts with a consonant\n",
    "    if word[0] not in vowels:  # Rule 1: Consonant cluster\n",
    "        # Iterate through the word to find the first vowel\n",
    "        for i in range(len(word)):\n",
    "            if word[i] in vowels:\n",
    "                # Return the Pig Latin translation\n",
    "                return word[i:] + word[:i] + \"AY\"\n",
    "        # If no vowel found, return the original word\n",
    "        return word  # Rule 3: No Vowel\n",
    "    # If the word starts with a vowel\n",
    "    elif word[0] in vowels:  # Rule 2: Vowel\n",
    "        # Return the Pig Latin translation\n",
    "        return word + \"WAY\"\n",
    "\n",
    "# Main function to interact with the user\n",
    "def main():\n",
    "    while True:\n",
    "        # Prompt the user to enter a word in uppercase\n",
    "        word = input(\"Enter a word, all uppercase letters: \")\n",
    "        \n",
    "        # Translate the word into Pig Latin\n",
    "        translation = pig_latin(word)\n",
    "        \n",
    "        # Display the Pig Latin translation\n",
    "        print(\"Pig Latin translation:\", translation)\n",
    "        \n",
    "        # Ask the user if they want to translate another word\n",
    "        choice = input(\"Would you like to translate another word? (yes/no): \")\n",
    "        \n",
    "        # If the user doesn't want to translate another word, exit the loop\n",
    "        if choice.lower() != 'yes':\n",
    "            break\n",
    "\n",
    "# Check if the script is executed directly\n",
    "if __name__ == \"__main__\":\n",
    "    # Call the main function\n",
    "    main()\n"
   ]
  },
  {
   "cell_type": "code",
   "execution_count": null,
   "id": "d32ec7d0",
   "metadata": {},
   "outputs": [],
   "source": []
  }
 ],
 "metadata": {
  "kernelspec": {
   "display_name": "Python 3 (ipykernel)",
   "language": "python",
   "name": "python3"
  },
  "language_info": {
   "codemirror_mode": {
    "name": "ipython",
    "version": 3
   },
   "file_extension": ".py",
   "mimetype": "text/x-python",
   "name": "python",
   "nbconvert_exporter": "python",
   "pygments_lexer": "ipython3",
   "version": "3.11.5"
  }
 },
 "nbformat": 4,
 "nbformat_minor": 5
}

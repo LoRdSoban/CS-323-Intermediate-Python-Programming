{
 "cells": [
  {
   "cell_type": "code",
   "execution_count": 6,
   "id": "c615ce33",
   "metadata": {},
   "outputs": [
    {
     "name": "stdout",
     "output_type": "stream",
     "text": [
      "Would you like to upload another file(yes/no)? yes\n",
      "What is the name of the file? data01.txt\n",
      "File data01.txt has been uploaded.\n",
      "Would you like to upload another file(yes/no)? yes\n",
      "What is the name of the file? data02.txt\n",
      "File data02.txt has been uploaded.\n",
      "Would you like to upload another file(yes/no)? yes\n",
      "What is the name of the file? data03.txt\n",
      "File data03.txt has been uploaded.\n",
      "Would you like to upload another file(yes/no)? no\n",
      "Which file would you like the final results stored? final.txt\n"
     ]
    }
   ],
   "source": [
    "results = {}\n",
    "\n",
    "choice = input(\"Would you like to upload another file(yes/no)? \")\n",
    "\n",
    "while choice == \"yes\":\n",
    "    \n",
    "    file_name = input(\"What is the name of the file? \")\n",
    "    \n",
    "    with open(file_name, 'r') as my_file:\n",
    "        count = int(my_file.readline())\n",
    "        \n",
    "        for i in range(count):\n",
    "            name = my_file.readline().strip()\n",
    "            result = my_file.readline().strip()\n",
    "            \n",
    "            if name in results:\n",
    "                if results[name] == \"negative\" and result == \"positive\":\n",
    "                    results[name] = result\n",
    "            else:\n",
    "                results[name] = result\n",
    "        \n",
    "    \n",
    "    print(f'File {file_name} has been uploaded.')\n",
    "    choice = input(\"Would you like to upload another file(yes/no)? \")\n",
    "    \n",
    "sorted_results = dict(sorted(results.items()))\n",
    "    \n",
    "final_result_file_name = input('Which file would you like the final results stored? ')\n",
    "\n",
    "with open(final_result_file_name, 'w') as my_file:\n",
    "    my_file.write(f'{len(sorted_results)}\\n')\n",
    "    \n",
    "    for name, result in sorted_results.items():\n",
    "         my_file.write(f'{name} {result}\\n')\n",
    "    \n"
   ]
  },
  {
   "cell_type": "code",
   "execution_count": null,
   "id": "0aa18775",
   "metadata": {},
   "outputs": [],
   "source": []
  }
 ],
 "metadata": {
  "kernelspec": {
   "display_name": "Python 3 (ipykernel)",
   "language": "python",
   "name": "python3"
  },
  "language_info": {
   "codemirror_mode": {
    "name": "ipython",
    "version": 3
   },
   "file_extension": ".py",
   "mimetype": "text/x-python",
   "name": "python",
   "nbconvert_exporter": "python",
   "pygments_lexer": "ipython3",
   "version": "3.11.5"
  }
 },
 "nbformat": 4,
 "nbformat_minor": 5
}

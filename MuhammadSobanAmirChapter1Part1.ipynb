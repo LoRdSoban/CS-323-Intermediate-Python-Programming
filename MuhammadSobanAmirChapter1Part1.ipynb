{
 "cells": [
  {
   "cell_type": "markdown",
   "id": "ba61c21f",
   "metadata": {},
   "source": [
    "# Name: Muhammad Soban Amir\n",
    "\n",
    "# Project: FootballStats"
   ]
  },
  {
   "cell_type": "code",
   "execution_count": 11,
   "id": "4c754bd4",
   "metadata": {},
   "outputs": [
    {
     "name": "stdout",
     "output_type": "stream",
     "text": [
      "This program will provide stats for the 2022 Sugar Bowl\n",
      "\n",
      "\n",
      "Please select which team you would like stats for?\n",
      "1-UA\n",
      "2-Kansas\n",
      "\n",
      "Enter here: 2\n",
      "The passing stats for Kansas are:\n",
      "\n",
      "Yards: 210\n",
      "Attempts: 35\n",
      "Completions: 18\n",
      "Touchdowns: 0\n",
      "Interceptions: 2\n"
     ]
    }
   ],
   "source": [
    "ua_passing_stats = {'passing_yards': 321,\n",
    "                    'passing_attempts': 22,\n",
    "                    'completed_passes': 15,\n",
    "                    'touchdowns': 5,\n",
    "                    'interceptions':  0}\n",
    "\n",
    "kansas_passing_stats = {'passing_yards': 210,\n",
    "                    'passing_attempts': 35,\n",
    "                    'completed_passes': 18,\n",
    "                    'touchdowns': 0,\n",
    "                    'interceptions':  2}\n",
    "\n",
    "print(\"This program will provide stats for the 2022 Sugar Bowl\\n\\n\")\n",
    "\n",
    "print(\"Please select which team you would like stats for?\")\n",
    "print(\"1-UA\\n2-Kansas\\n\")\n",
    "choice = int(input(\"Enter here: \"))\n",
    "\n",
    "print(f'The passing stats for {\"UA\" if choice == 1 else \"Kansas\"} are:\\n')\n",
    "\n",
    "\n",
    "print(f\"Yards: {ua_passing_stats['passing_yards'] if choice == 1 else kansas_passing_stats['passing_yards']}\")\n",
    "print(f\"Attempts: {ua_passing_stats['passing_attempts'] if choice == 1 else kansas_passing_stats['passing_attempts']}\")  \n",
    "print(f\"Completions: {ua_passing_stats['completed_passes'] if choice == 1 else kansas_passing_stats['completed_passes']}\")\n",
    "print(f\"Touchdowns: {ua_passing_stats['touchdowns'] if choice == 1 else kansas_passing_stats['touchdowns']}\")\n",
    "print(f\"Interceptions: {ua_passing_stats['interceptions'] if choice == 1 else kansas_passing_stats['interceptions']}\") "
   ]
  }
 ],
 "metadata": {
  "kernelspec": {
   "display_name": "Python 3 (ipykernel)",
   "language": "python",
   "name": "python3"
  },
  "language_info": {
   "codemirror_mode": {
    "name": "ipython",
    "version": 3
   },
   "file_extension": ".py",
   "mimetype": "text/x-python",
   "name": "python",
   "nbconvert_exporter": "python",
   "pygments_lexer": "ipython3",
   "version": "3.11.5"
  }
 },
 "nbformat": 4,
 "nbformat_minor": 5
}
